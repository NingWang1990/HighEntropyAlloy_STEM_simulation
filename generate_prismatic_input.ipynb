{
 "cells": [
  {
   "cell_type": "code",
   "execution_count": 35,
   "metadata": {},
   "outputs": [],
   "source": [
    "from ase import Atoms\n",
    "import numpy as np"
   ]
  },
  {
   "cell_type": "code",
   "execution_count": 36,
   "metadata": {},
   "outputs": [],
   "source": [
    "np.random.seed(1001)"
   ]
  },
  {
   "cell_type": "markdown",
   "metadata": {},
   "source": [
    "questions for Niels: 1. size of the sample; 2. normal direction; 3. lattice constant"
   ]
  },
  {
   "cell_type": "code",
   "execution_count": 37,
   "metadata": {},
   "outputs": [],
   "source": [
    "latticeC = 3.463"
   ]
  },
  {
   "cell_type": "code",
   "execution_count": 38,
   "metadata": {},
   "outputs": [],
   "source": [
    "size_x = 500 # unit: Angstrom\n",
    "size_y = 500\n",
    "size_z = 100"
   ]
  },
  {
   "cell_type": "code",
   "execution_count": 39,
   "metadata": {},
   "outputs": [],
   "source": [
    "# generate a simple slab along (0,0,1)\n",
    "atoms = Atoms('Ta2', positions=[(0,0,0),(latticeC/2.,latticeC/2, latticeC/2.)],\n",
    "             cell=(latticeC, latticeC, latticeC))"
   ]
  },
  {
   "cell_type": "code",
   "execution_count": 40,
   "metadata": {},
   "outputs": [],
   "source": [
    "repeat_x = int(size_x / latticeC)\n",
    "repeat_y = int(size_y / latticeC)\n",
    "repeat_z = int(size_z / latticeC)"
   ]
  },
  {
   "cell_type": "code",
   "execution_count": 41,
   "metadata": {},
   "outputs": [],
   "source": [
    "atoms = atoms.repeat((repeat_x, repeat_y, repeat_z))"
   ]
  },
  {
   "cell_type": "code",
   "execution_count": 42,
   "metadata": {},
   "outputs": [],
   "source": [
    "indices = np.arange(len(atoms))"
   ]
  },
  {
   "cell_type": "code",
   "execution_count": 43,
   "metadata": {},
   "outputs": [],
   "source": [
    "np.random.shuffle(indices, )"
   ]
  },
  {
   "cell_type": "code",
   "execution_count": 44,
   "metadata": {},
   "outputs": [],
   "source": [
    "comp_Ta = 0.093 \n",
    "comp_Ti = 0.332\n",
    "comp_Zr = 0.33\n",
    "comp_Hf = 0.245"
   ]
  },
  {
   "cell_type": "code",
   "execution_count": 45,
   "metadata": {},
   "outputs": [],
   "source": [
    "indices_Ta = indices[:int(comp_Ta*len(atoms))]\n",
    "indices_Ti = indices[int(comp_Ta*len(atoms)):int((comp_Ta+comp_Ti)*len(atoms))]\n",
    "indices_Zr = indices[int((comp_Ta+comp_Ti)*len(atoms)):int((comp_Ta+comp_Ti+comp_Zr)*len(atoms))]\n",
    "indices_Hf = indices[int((comp_Ta+comp_Ti+comp_Zr)*len(atoms)):]"
   ]
  },
  {
   "cell_type": "code",
   "execution_count": 46,
   "metadata": {},
   "outputs": [],
   "source": [
    "symbols = atoms.get_chemical_symbols()"
   ]
  },
  {
   "cell_type": "code",
   "execution_count": 47,
   "metadata": {},
   "outputs": [],
   "source": [
    "symbols = np.array(symbols)"
   ]
  },
  {
   "cell_type": "code",
   "execution_count": 48,
   "metadata": {},
   "outputs": [],
   "source": [
    "symbols[indices_Ta] = 'Ta'\n",
    "symbols[indices_Ti] = 'Ti'\n",
    "symbols[indices_Zr] = 'Zr'\n",
    "symbols[indices_Hf] = 'Hf'"
   ]
  },
  {
   "cell_type": "code",
   "execution_count": 49,
   "metadata": {},
   "outputs": [],
   "source": [
    "atoms.set_chemical_symbols(list(symbols))"
   ]
  },
  {
   "cell_type": "code",
   "execution_count": 50,
   "metadata": {},
   "outputs": [
    {
     "data": {
      "text/plain": [
       "Atoms(symbols='Hf284498Ta107993Ti385523Zr383202', pbc=False, cell=[498.672, 498.672, 96.964])"
      ]
     },
     "execution_count": 50,
     "metadata": {},
     "output_type": "execute_result"
    }
   ],
   "source": [
    "atoms"
   ]
  },
  {
   "cell_type": "markdown",
   "metadata": {},
   "source": [
    "Questions for Niels or Christian: how to choose thermal_sigma for Debye–Waller effect?"
   ]
  },
  {
   "cell_type": "code",
   "execution_count": 51,
   "metadata": {},
   "outputs": [],
   "source": [
    "def ASE2PrismaticXYZ(atoms, filename='prismatic.XYZ',\n",
    "                     headline='Prismatic input file',\n",
    "                     occupancy_number=1.,\n",
    "                     thermal_sigma=0.1):\n",
    "    \"\"\"\n",
    "    write ase Atoms object to XYZ file for Prismatic.\n",
    "    this function only supports orthogonal supercell.\n",
    "    \n",
    "    Input\n",
    "    -----------------\n",
    "    atoms..............ase Atoms object\n",
    "    occupancy_number...float or list, value between 0 and 1 that \n",
    "                       specifies the likelihood that an atom exists \n",
    "                       at that site.\n",
    "                       if float, assign this value to each atom. \n",
    "                       if list, the i-th entry is the occupancy number of the i-th atom.\n",
    "    thermal_sigma......float or list, parameters for Debye-Waller effect.\n",
    "                       Unit: Angstrom.\n",
    "                       if float, assign this value to each atom. \n",
    "                       if list, the i-th entry is the standard deviation\n",
    "                       of random thermal motion for the i-th atom.\n",
    "    \"\"\"\n",
    "    \n",
    "    outf = open(filename, 'w',  encoding='utf8')\n",
    "    outf.write(headline)\n",
    "    outf.write('\\n')\n",
    "    cell = atoms.get_cell()\n",
    "    outf.write('      %12.6f %12.6f %12.6f\\n' % (cell[0,0], cell[1,1], cell[2,2]))\n",
    "    positions = atoms.get_positions()\n",
    "    atomic_numbers = atoms.get_atomic_numbers()\n",
    "    if not hasattr(occupancy_number, \"__len__\"):\n",
    "        occupancy_number = occupancy_number * np.ones(len(atoms))\n",
    "    if not hasattr(thermal_sigma, \"__len__\"):\n",
    "        thermal_sigma = thermal_sigma * np.ones(len(atoms))\n",
    "    for i in range(len(atoms)):\n",
    "        outf.write('%d %- 12.6f %- 12.6f %- 12.6f %7.6f %- 12.6f\\n' % (atomic_numbers[i],\n",
    "                 positions[i,0],positions[i,1],positions[i,2],occupancy_number[i],thermal_sigma[i]))\n",
    "    outf.write('-1')\n",
    "    outf.close()"
   ]
  },
  {
   "cell_type": "code",
   "execution_count": 52,
   "metadata": {},
   "outputs": [],
   "source": [
    "ASE2PrismaticXYZ(atoms)"
   ]
  }
 ],
 "metadata": {
  "kernelspec": {
   "display_name": "Python 3",
   "language": "python",
   "name": "python3"
  },
  "language_info": {
   "codemirror_mode": {
    "name": "ipython",
    "version": 3
   },
   "file_extension": ".py",
   "mimetype": "text/x-python",
   "name": "python",
   "nbconvert_exporter": "python",
   "pygments_lexer": "ipython3",
   "version": "3.8.3"
  }
 },
 "nbformat": 4,
 "nbformat_minor": 2
}
