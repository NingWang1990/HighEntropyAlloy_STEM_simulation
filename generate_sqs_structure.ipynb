{
 "cells": [
  {
   "cell_type": "code",
   "execution_count": 110,
   "metadata": {},
   "outputs": [],
   "source": [
    "from ase import Atoms\n",
    "import numpy as np"
   ]
  },
  {
   "cell_type": "code",
   "execution_count": 111,
   "metadata": {},
   "outputs": [],
   "source": [
    "np.random.seed(1001)"
   ]
  },
  {
   "cell_type": "markdown",
   "metadata": {},
   "source": [
    "questions for Niels: 1. size of the sample; 2. normal direction; 3. lattice constant"
   ]
  },
  {
   "cell_type": "code",
   "execution_count": 112,
   "metadata": {},
   "outputs": [],
   "source": [
    "latticeC = 5"
   ]
  },
  {
   "cell_type": "code",
   "execution_count": 113,
   "metadata": {},
   "outputs": [],
   "source": [
    "size_x = 200 # unit: Angstrom\n",
    "size_y = 200\n",
    "size_z = 20 "
   ]
  },
  {
   "cell_type": "code",
   "execution_count": 114,
   "metadata": {},
   "outputs": [],
   "source": [
    "# generate a simple slab along (0,0,1)\n",
    "atoms = Atoms('Ta2', positions=[(0,0,0),(lattice_constant/2.,lattice_constant/2, lattice_constant/2.)],\n",
    "             cell=(latticeC, latticeC, latticeC))"
   ]
  },
  {
   "cell_type": "code",
   "execution_count": 115,
   "metadata": {},
   "outputs": [],
   "source": [
    "repeat_x = int(size_x / latticeC)\n",
    "repeat_y = int(size_y / latticeC)\n",
    "repeat_z = int(size_z / latticeC)"
   ]
  },
  {
   "cell_type": "code",
   "execution_count": 116,
   "metadata": {},
   "outputs": [],
   "source": [
    "atoms = atoms.repeat((repeat_x, repeat_y, repeat_z))"
   ]
  },
  {
   "cell_type": "code",
   "execution_count": 117,
   "metadata": {},
   "outputs": [],
   "source": [
    "indices = np.arange(len(atoms))"
   ]
  },
  {
   "cell_type": "code",
   "execution_count": 118,
   "metadata": {},
   "outputs": [],
   "source": [
    "np.random.shuffle(indices, )"
   ]
  },
  {
   "cell_type": "code",
   "execution_count": 119,
   "metadata": {},
   "outputs": [],
   "source": [
    "num_one_species = int(len(indices)/4)"
   ]
  },
  {
   "cell_type": "code",
   "execution_count": 120,
   "metadata": {},
   "outputs": [],
   "source": [
    "indices_Ta = indices[:num_one_species]\n",
    "indices_Ti = indices[num_one_species:(2*num_one_species)]\n",
    "indices_Zr = indices[(2*num_one_species):(3*num_one_species)]\n",
    "indices_Hf = indices[(3*num_one_species):]"
   ]
  },
  {
   "cell_type": "code",
   "execution_count": 121,
   "metadata": {},
   "outputs": [],
   "source": [
    "symbols = atoms.get_chemical_symbols()"
   ]
  },
  {
   "cell_type": "code",
   "execution_count": 122,
   "metadata": {},
   "outputs": [
    {
     "data": {
      "text/plain": [
       "array([11941,  5809,  1272, ...,   227,   286,  2953])"
      ]
     },
     "execution_count": 122,
     "metadata": {},
     "output_type": "execute_result"
    }
   ],
   "source": [
    "indices"
   ]
  },
  {
   "cell_type": "code",
   "execution_count": 123,
   "metadata": {},
   "outputs": [],
   "source": [
    "symbols = np.array(symbols)"
   ]
  },
  {
   "cell_type": "code",
   "execution_count": 124,
   "metadata": {},
   "outputs": [],
   "source": [
    "symbols[indices_Ta] = 'Ta'\n",
    "symbols[indices_Ti] = 'Ti'\n",
    "symbols[indices_Zr] = 'Zr'\n",
    "symbols[indices_Hf] = 'Hf'"
   ]
  },
  {
   "cell_type": "code",
   "execution_count": 125,
   "metadata": {},
   "outputs": [],
   "source": [
    "atoms.set_chemical_symbols(list(symbols))"
   ]
  },
  {
   "cell_type": "code",
   "execution_count": 126,
   "metadata": {},
   "outputs": [
    {
     "data": {
      "text/plain": [
       "Atoms(symbols='Hf3200Ta3200Ti3200Zr3200', pbc=False, cell=[200.0, 200.0, 20.0])"
      ]
     },
     "execution_count": 126,
     "metadata": {},
     "output_type": "execute_result"
    }
   ],
   "source": [
    "atoms"
   ]
  },
  {
   "cell_type": "code",
   "execution_count": 128,
   "metadata": {},
   "outputs": [
    {
     "data": {
      "text/plain": [
       "Atoms(symbols='Hf3200Ta3200Ti3200Zr3200', pbc=False, cell=[200.0, 200.0, 20.0])"
      ]
     },
     "execution_count": 128,
     "metadata": {},
     "output_type": "execute_result"
    }
   ],
   "source": [
    "atoms"
   ]
  },
  {
   "cell_type": "code",
   "execution_count": 130,
   "metadata": {},
   "outputs": [
    {
     "data": {
      "text/plain": [
       "Cell([200.0, 200.0, 20.0])"
      ]
     },
     "execution_count": 130,
     "metadata": {},
     "output_type": "execute_result"
    }
   ],
   "source": [
    "atoms.get_cell()"
   ]
  },
  {
   "cell_type": "markdown",
   "metadata": {},
   "source": [
    "Questions for Niels or Christian: how to choose thermal_sigma for Debye–Waller effect?"
   ]
  },
  {
   "cell_type": "code",
   "execution_count": 185,
   "metadata": {},
   "outputs": [],
   "source": [
    "def ASE2PrismaticXYZ(atoms, filename='prismatic.XYZ',\n",
    "                     headline='Prismatic input file',\n",
    "                     occupancy_number=1.,\n",
    "                     thermal_sigma=0.1):\n",
    "    \"\"\"\n",
    "    write ase Atoms object to XYZ file for Prismatic.\n",
    "    this function only supports orthogonal supercell.\n",
    "    \n",
    "    Input\n",
    "    -----------------\n",
    "    atoms..............ase Atoms object\n",
    "    occupancy_number...float or list, value between 0 and 1 that \n",
    "                       specifies the likelihood that an atom exists \n",
    "                       at that site.\n",
    "                       if float, assign this value to each atom. \n",
    "                       if list, the i-th entry is the occupancy number of the i-th atom.\n",
    "    thermal_sigma......float or list, parameters for Debye-Waller effect.\n",
    "                       Unit: Angstrom.\n",
    "                       if float, assign this value to each atom. \n",
    "                       if list, the i-th entry is the standard deviation\n",
    "                       of random thermal motion for the i-th atom.\n",
    "    \"\"\"\n",
    "    \n",
    "    outf = open(filename, 'w',  encoding='utf8')\n",
    "    outf.write(headline)\n",
    "    outf.write('\\n')\n",
    "    cell = atoms.get_cell()\n",
    "    outf.write('      %12.6f %12.6f %12.6f\\n' % (cell[0,0], cell[1,1], cell[2,2]))\n",
    "    positions = atoms.get_positions()\n",
    "    atomic_numbers = atoms.get_atomic_numbers()\n",
    "    if not hasattr(occupancy_number, \"__len__\"):\n",
    "        occupancy_number = occupancy_number * np.ones(len(atoms))\n",
    "    if not hasattr(thermal_sigma, \"__len__\"):\n",
    "        thermal_sigma = thermal_sigma * np.ones(len(atoms))\n",
    "    for i in range(len(atoms)):\n",
    "        outf.write('%d %- 12.6f %- 12.6f %- 12.6f %7.6f %- 12.6f\\n' % (atomic_numbers[i],\n",
    "                 positions[i,0],positions[i,1],positions[i,2],occupancy_number[i],thermal_sigma[i]))\n",
    "    outf.write('-1')\n",
    "    outf.close()"
   ]
  },
  {
   "cell_type": "code",
   "execution_count": 186,
   "metadata": {},
   "outputs": [],
   "source": [
    "ASE2PrismaticXYZ(atoms)"
   ]
  }
 ],
 "metadata": {
  "kernelspec": {
   "display_name": "Python 3",
   "language": "python",
   "name": "python3"
  },
  "language_info": {
   "codemirror_mode": {
    "name": "ipython",
    "version": 3
   },
   "file_extension": ".py",
   "mimetype": "text/x-python",
   "name": "python",
   "nbconvert_exporter": "python",
   "pygments_lexer": "ipython3",
   "version": "3.7.4"
  }
 },
 "nbformat": 4,
 "nbformat_minor": 2
}
